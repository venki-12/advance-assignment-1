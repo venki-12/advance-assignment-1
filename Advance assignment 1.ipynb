{
 "cells": [
  {
   "cell_type": "code",
   "execution_count": 1,
   "metadata": {},
   "outputs": [],
   "source": [
    "#What is the purpose of Python's OOP?\n",
    "#The oops concept focuses on writing the reusable code. \n",
    "#It is a widespread technique to solve the problem by creating objects.\n",
    "#It is more secure than procedural oriented programme\n",
    "\n",
    "\n"
   ]
  },
  {
   "cell_type": "code",
   "execution_count": 2,
   "metadata": {},
   "outputs": [],
   "source": [
    "#Where does an inheritance search look for an attribute?\n",
    "#Python searches the namespace tree at and above object, for the first attribution it can find.\n",
    "#Because lower definitions in the tree override higher ones, inheritance forms the basis of specialization."
   ]
  },
  {
   "cell_type": "code",
   "execution_count": 4,
   "metadata": {},
   "outputs": [
    {
     "data": {
      "text/plain": [
       "'Instance objects are declared in a class, but outside a method, constructor or any block.\\n    Instance objects variables are declared in a class, but outside a method, constructor or any block.\\n    Instance objects can be accessed directly by calling the variable name inside the class\\n    Instance objects hold values that must be referenced by more than one method.'"
      ]
     },
     "execution_count": 4,
     "metadata": {},
     "output_type": "execute_result"
    }
   ],
   "source": [
    "#How do you distinguish between a class object and an instance object?\n",
    "\n",
    "\"\"\"Instance objects are declared in a class, but outside a method, constructor or any block.\n",
    "    Instance objects variables are declared in a class, but outside a method, constructor or any block.\n",
    "    Instance objects can be accessed directly by calling the variable name inside the class\n",
    "    Instance objects hold values that must be referenced by more than one method.\"\"\"\n",
    "\n",
    "\"\"\"class objects are declared with the static keyword in a class, but outside a method, constructor or a block.\n",
    "    class objects are created when the program starts and destroyed when the program stops.\n",
    "    class objects can be accessed by calling with the class name ClassName.VariableName.\n",
    "    There would only be one copy of each class variable per class, regardless of how many objects are created from it.\"\"\""
   ]
  },
  {
   "cell_type": "code",
   "execution_count": 5,
   "metadata": {},
   "outputs": [],
   "source": [
    "#What makes the first argument in a class’s method function special?\n",
    "#  it is a self keywords it works as a pointer."
   ]
  },
  {
   "cell_type": "code",
   "execution_count": 6,
   "metadata": {},
   "outputs": [],
   "source": [
    "#What is the purpose of the __init__ method?\n",
    "# it  is used to initialises the object state.\n"
   ]
  },
  {
   "cell_type": "code",
   "execution_count": 8,
   "metadata": {},
   "outputs": [
    {
     "name": "stdout",
     "output_type": "stream",
     "text": [
      "Hello, my name is Nikhil\n"
     ]
    }
   ],
   "source": [
    "# What is the process for creating a class instance?\n",
    "class Person:  \n",
    "      \n",
    "    # init method  \n",
    "    def __init__(self, name):  \n",
    "        self.name = name  \n",
    "      \n",
    " \n",
    "    def say_hi(self):  \n",
    "        print('Hello, my name is', self.name)  \n",
    "        \n",
    "p = Person('Nikhil')  \n",
    "p.say_hi() \n",
    "      "
   ]
  },
  {
   "cell_type": "code",
   "execution_count": 9,
   "metadata": {},
   "outputs": [],
   "source": [
    "#What is the process for creating a class?\n",
    "#The class statement creates a new class definition. \n",
    "#The name of the class immediately follows the keyword class followed by a colon\n",
    "class ClassName:\n",
    "    pass\n"
   ]
  },
  {
   "cell_type": "code",
   "execution_count": 12,
   "metadata": {},
   "outputs": [
    {
     "name": "stdout",
     "output_type": "stream",
     "text": [
      "Dog has four legs.\n",
      "Dog is a warm-blooded animal.\n"
     ]
    }
   ],
   "source": [
    "#How would you define the superclasses of a class?\n",
    "\"\"\"\"A superclass is the class from which many subclasses can be created. \n",
    "    The subclasses inherit the characteristics of a superclass. \n",
    "    The superclass is also known as the parent class or base class.\"\"\"\n",
    "\n",
    "class Animal(object):\n",
    "    def __init__(self, AnimalName):\n",
    "        print(AnimalName, 'is a warm-blooded animal.')\n",
    "    \n",
    "class Dog(Animal):\n",
    "    def __init__(self):\n",
    "        print('Dog has four legs.')\n",
    "        super().__init__('Dog')\n",
    "    \n",
    "d1 = Dog()"
   ]
  },
  {
   "cell_type": "code",
   "execution_count": null,
   "metadata": {},
   "outputs": [],
   "source": []
  }
 ],
 "metadata": {
  "kernelspec": {
   "display_name": "Python 3",
   "language": "python",
   "name": "python3"
  },
  "language_info": {
   "codemirror_mode": {
    "name": "ipython",
    "version": 3
   },
   "file_extension": ".py",
   "mimetype": "text/x-python",
   "name": "python",
   "nbconvert_exporter": "python",
   "pygments_lexer": "ipython3",
   "version": "3.8.5"
  }
 },
 "nbformat": 4,
 "nbformat_minor": 4
}
